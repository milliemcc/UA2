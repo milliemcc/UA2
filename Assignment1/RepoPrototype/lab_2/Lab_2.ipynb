{
 "cells": [
  {
   "cell_type": "markdown",
   "id": "0d51b419-78de-406b-8c55-f061cd4b9eed",
   "metadata": {},
   "source": [
    "# Lab No 2: Data Manipulation and Working with Web Services\n",
    "\n",
    "## 2 Challenges"
   ]
  },
  {
   "cell_type": "markdown",
   "id": "848b6050-b4cc-46f8-8258-e6028b933bd2",
   "metadata": {},
   "source": [
    "# Challenge No 1"
   ]
  },
  {
   "cell_type": "code",
   "execution_count": 1,
   "id": "4db5f6c4-d24c-4ab9-82b8-6c4fd5e95fa9",
   "metadata": {},
   "outputs": [
    {
     "data": {
      "text/html": [
       "<div>\n",
       "<style scoped>\n",
       "    .dataframe tbody tr th:only-of-type {\n",
       "        vertical-align: middle;\n",
       "    }\n",
       "\n",
       "    .dataframe tbody tr th {\n",
       "        vertical-align: top;\n",
       "    }\n",
       "\n",
       "    .dataframe thead th {\n",
       "        text-align: right;\n",
       "    }\n",
       "</style>\n",
       "<table border=\"1\" class=\"dataframe\">\n",
       "  <thead>\n",
       "    <tr style=\"text-align: right;\">\n",
       "      <th></th>\n",
       "      <th>a</th>\n",
       "      <th>b</th>\n",
       "      <th>c</th>\n",
       "      <th>d</th>\n",
       "    </tr>\n",
       "  </thead>\n",
       "  <tbody>\n",
       "    <tr>\n",
       "      <th>0</th>\n",
       "      <td>2008</td>\n",
       "      <td>56</td>\n",
       "      <td>9</td>\n",
       "      <td>243</td>\n",
       "    </tr>\n",
       "    <tr>\n",
       "      <th>1</th>\n",
       "      <td>2015</td>\n",
       "      <td>96</td>\n",
       "      <td>4</td>\n",
       "      <td>194</td>\n",
       "    </tr>\n",
       "    <tr>\n",
       "      <th>2</th>\n",
       "      <td>2015</td>\n",
       "      <td>43</td>\n",
       "      <td>6</td>\n",
       "      <td>280</td>\n",
       "    </tr>\n",
       "    <tr>\n",
       "      <th>3</th>\n",
       "      <td>2005</td>\n",
       "      <td>83</td>\n",
       "      <td>9</td>\n",
       "      <td>256</td>\n",
       "    </tr>\n",
       "    <tr>\n",
       "      <th>4</th>\n",
       "      <td>2005</td>\n",
       "      <td>33</td>\n",
       "      <td>8</td>\n",
       "      <td>151</td>\n",
       "    </tr>\n",
       "  </tbody>\n",
       "</table>\n",
       "</div>"
      ],
      "text/plain": [
       "      a   b  c    d\n",
       "0  2008  56  9  243\n",
       "1  2015  96  4  194\n",
       "2  2015  43  6  280\n",
       "3  2005  83  9  256\n",
       "4  2005  33  8  151"
      ]
     },
     "execution_count": 1,
     "metadata": {},
     "output_type": "execute_result"
    }
   ],
   "source": [
    "# Here is the code for challenge 2, Lab 2\n",
    "\n",
    "#Uses a Dictionary to create a df with 4 columns and 150 rows \n",
    "import numpy as np\n",
    "import pandas as pd\n",
    "\n",
    "\n",
    "col1 = np.random.randint(2000, 2020, 150)\n",
    "#column with 150 rows with random variables between 2000 and 2020\n",
    "\n",
    "col2 = np.random.randint(20, 100, 150) \n",
    "#column with 150 rows with random variables between 20 and 100\n",
    "\n",
    "col3 = np.random.randint(0, 10, 150)\n",
    "#column with 150 rows with random variables between 0 and 10\n",
    "\n",
    "col4 = np.random.randint(100, 300, 150) \n",
    "#column with 150 rows with random variables between 100 and 300\n",
    "\n",
    "# np.random.randint generates random numbers to fill the defined array\n",
    "\n",
    "#create dataframe with column headers a, b, c, d\n",
    "df = pd.DataFrame({\"a\": col1, \"b\": col2, \"c\": col3, \"d\": col4}) \n",
    "\n",
    "df.head()"
   ]
  },
  {
   "cell_type": "code",
   "execution_count": 2,
   "id": "b6e7aae7-609d-4284-a688-29be8e87221e",
   "metadata": {},
   "outputs": [],
   "source": [
    "subset_df = df.loc[0:29, 'a':'c']\n",
    "#create a subset of the data using .loc where the rows are between 0 and 29 and columns\n",
    "#are between a and c"
   ]
  },
  {
   "cell_type": "code",
   "execution_count": 3,
   "id": "0487835f-3f25-4189-98f7-202829f131da",
   "metadata": {},
   "outputs": [
    {
     "data": {
      "text/html": [
       "<div>\n",
       "<style scoped>\n",
       "    .dataframe tbody tr th:only-of-type {\n",
       "        vertical-align: middle;\n",
       "    }\n",
       "\n",
       "    .dataframe tbody tr th {\n",
       "        vertical-align: top;\n",
       "    }\n",
       "\n",
       "    .dataframe thead th {\n",
       "        text-align: right;\n",
       "    }\n",
       "</style>\n",
       "<table border=\"1\" class=\"dataframe\">\n",
       "  <thead>\n",
       "    <tr style=\"text-align: right;\">\n",
       "      <th></th>\n",
       "      <th>a</th>\n",
       "      <th>b</th>\n",
       "      <th>c</th>\n",
       "      <th>d</th>\n",
       "    </tr>\n",
       "  </thead>\n",
       "  <tbody>\n",
       "    <tr>\n",
       "      <th>1</th>\n",
       "      <td>2015</td>\n",
       "      <td>96</td>\n",
       "      <td>4</td>\n",
       "      <td>194</td>\n",
       "    </tr>\n",
       "    <tr>\n",
       "      <th>7</th>\n",
       "      <td>2017</td>\n",
       "      <td>84</td>\n",
       "      <td>4</td>\n",
       "      <td>199</td>\n",
       "    </tr>\n",
       "    <tr>\n",
       "      <th>10</th>\n",
       "      <td>2013</td>\n",
       "      <td>63</td>\n",
       "      <td>4</td>\n",
       "      <td>288</td>\n",
       "    </tr>\n",
       "    <tr>\n",
       "      <th>25</th>\n",
       "      <td>2000</td>\n",
       "      <td>94</td>\n",
       "      <td>4</td>\n",
       "      <td>141</td>\n",
       "    </tr>\n",
       "    <tr>\n",
       "      <th>31</th>\n",
       "      <td>2019</td>\n",
       "      <td>86</td>\n",
       "      <td>4</td>\n",
       "      <td>287</td>\n",
       "    </tr>\n",
       "  </tbody>\n",
       "</table>\n",
       "</div>"
      ],
      "text/plain": [
       "       a   b  c    d\n",
       "1   2015  96  4  194\n",
       "7   2017  84  4  199\n",
       "10  2013  63  4  288\n",
       "25  2000  94  4  141\n",
       "31  2019  86  4  287"
      ]
     },
     "execution_count": 3,
     "metadata": {},
     "output_type": "execute_result"
    }
   ],
   "source": [
    "filtered_df = df.loc[(df['b'] > 50) & (df['c'] == 4)]\n",
    "filtered_df.head()\n",
    "# filter data so that it only includes rows where the value of b is greater than 50"
   ]
  },
  {
   "cell_type": "code",
   "execution_count": 5,
   "id": "c0b58d16-53e2-4af2-9886-0e532e4767ae",
   "metadata": {},
   "outputs": [
    {
     "name": "stdout",
     "output_type": "stream",
     "text": [
      "a    2009.740000\n",
      "b      61.346667\n",
      "c       4.573333\n",
      "d     195.426667\n",
      "dtype: float64\n",
      "a     5.622856\n",
      "b    24.450741\n",
      "c     2.831621\n",
      "d    59.298058\n",
      "dtype: float64\n"
     ]
    }
   ],
   "source": [
    "#mean of all columns \n",
    "print(df.mean())\n",
    "\n",
    "#standard deviation of all columns\n",
    "print(df.std())\n"
   ]
  },
  {
   "cell_type": "code",
   "execution_count": 16,
   "id": "4ebc900d-d55d-4c0b-b26a-5d77ba7bfcde",
   "metadata": {},
   "outputs": [
    {
     "data": {
      "text/plain": [
       "a\n",
       "2000    30\n",
       "2001    20\n",
       "2002    37\n",
       "2003    24\n",
       "2004    37\n",
       "2005    62\n",
       "2006    71\n",
       "2007    49\n",
       "2008    47\n",
       "2009    30\n",
       "2010    11\n",
       "2011    28\n",
       "2012     6\n",
       "2013    19\n",
       "2014    39\n",
       "2015    34\n",
       "2016    21\n",
       "2017    36\n",
       "2018    48\n",
       "2019    37\n",
       "Name: c, dtype: int64"
      ]
     },
     "execution_count": 16,
     "metadata": {},
     "output_type": "execute_result"
    }
   ],
   "source": [
    "#using group_by \n",
    "\n",
    "group = df.groupby('a')['c'].sum()\n",
    "group"
   ]
  },
  {
   "cell_type": "markdown",
   "id": "0e6c1433-bb38-4630-a13f-ff24fddc47b4",
   "metadata": {},
   "source": [
    "# Challenge No 2\n",
    "## Part 1"
   ]
  },
  {
   "cell_type": "code",
   "execution_count": 20,
   "id": "d022bf66-bdac-443a-b429-5465a0b8e0c9",
   "metadata": {},
   "outputs": [
    {
     "data": {
      "text/plain": [
       "<Response [200]>"
      ]
     },
     "execution_count": 20,
     "metadata": {},
     "output_type": "execute_result"
    }
   ],
   "source": [
    "# Here is the code for challenge 2, Lab 2\n",
    "\n",
    "import requests\n",
    "import pandas as pd\n",
    "import geopandas as gpd\n",
    "\n",
    "\n",
    "# the following code is taken from the example and is the preprocessing for the bikes data\n",
    "url_bikes = \"https://api.glasgow.gov.uk/mobility/v1/get_rentals?startDate=2022-05-01&endDate=2023-05-01\"\n",
    "# Making the query to the web server, using the Get method from the requests library \n",
    "response = requests.get(url_bikes)\n",
    "response"
   ]
  },
  {
   "cell_type": "code",
   "execution_count": null,
   "id": "73dfc176-b657-4d7e-9756-adf89fddad85",
   "metadata": {},
   "outputs": [],
   "source": [
    "data = response.json()\n",
    "data"
   ]
  },
  {
   "cell_type": "code",
   "execution_count": null,
   "id": "478834db-f639-4990-92f2-c526720ba655",
   "metadata": {},
   "outputs": [],
   "source": [
    "rental_data = data['data']\n",
    "rental_data"
   ]
  },
  {
   "cell_type": "code",
   "execution_count": 23,
   "id": "cd0b5034-d141-4ee9-9f38-69ea2bb9de64",
   "metadata": {},
   "outputs": [],
   "source": [
    "rental_pd = pd.DataFrame(rental_data)\n",
    "\n",
    "clean_rental_pd = rental_pd.dropna(subset=['startPlaceLat', 'startPlaceLong', 'endPlaceLat','endPlaceLong'])\n"
   ]
  },
  {
   "cell_type": "code",
   "execution_count": 27,
   "id": "527f4b12-a509-42d8-a85a-5a79ba2f2863",
   "metadata": {},
   "outputs": [],
   "source": [
    "gdf_bikes_end = gpd.GeoDataFrame(clean_rental_pd, geometry=gpd.points_from_xy(clean_rental_pd['endPlaceLong'], clean_rental_pd['endPlaceLat']))\n"
   ]
  },
  {
   "cell_type": "code",
   "execution_count": 28,
   "id": "1b042cc8-a56a-4d68-9fd4-239dc5f858b1",
   "metadata": {},
   "outputs": [
    {
     "name": "stdout",
     "output_type": "stream",
     "text": [
      "True True\n"
     ]
    }
   ],
   "source": [
    "# checking for any nan values in the coordinates \n",
    "\n",
    "nan_in_column_Lat = rental_pd['endPlaceLat'].isna().any()\n",
    "nan_in_column_Long = rental_pd['endPlaceLong'].isna().any()\n",
    "\n",
    "print(nan_in_column_Lat,nan_in_column_Lat)"
   ]
  },
  {
   "cell_type": "code",
   "execution_count": 29,
   "id": "050c0664-86ef-4fc3-8ffb-20031c199892",
   "metadata": {},
   "outputs": [
    {
     "name": "stdout",
     "output_type": "stream",
     "text": [
      "<class 'pandas.core.frame.DataFrame'>\n",
      "Index: 9967 entries, 0 to 9999\n",
      "Data columns (total 24 columns):\n",
      " #   Column                   Non-Null Count  Dtype  \n",
      "---  ------                   --------------  -----  \n",
      " 0   created                  9967 non-null   object \n",
      " 1   updated                  9967 non-null   object \n",
      " 2   cityId                   9967 non-null   object \n",
      " 3   bikeId                   9967 non-null   object \n",
      " 4   startDate                9967 non-null   object \n",
      " 5   startPlaceId             9967 non-null   object \n",
      " 6   startPlaceCityId         9967 non-null   object \n",
      " 7   startPlaceName           9967 non-null   object \n",
      " 8   startPlaceStationNumber  9559 non-null   float64\n",
      " 9   startPlaceLat            9940 non-null   float64\n",
      " 10  startPlaceLong           9940 non-null   float64\n",
      " 11  startChannelId           0 non-null      object \n",
      " 12  endDate                  9967 non-null   object \n",
      " 13  endPlaceId               9967 non-null   object \n",
      " 14  endPlaceCityId           9967 non-null   object \n",
      " 15  endChannelId             9916 non-null   object \n",
      " 16  endPlaceName             9967 non-null   object \n",
      " 17  endPlaceStationNumber    9540 non-null   float64\n",
      " 18  endPlaceLat              9967 non-null   float64\n",
      " 19  endPlaceLong             9967 non-null   float64\n",
      " 20  durationSeconds          9967 non-null   int64  \n",
      " 21  isInvalid                9967 non-null   bool   \n",
      " 22  price                    9967 non-null   float64\n",
      " 23  isEbike                  9967 non-null   bool   \n",
      "dtypes: bool(2), float64(7), int64(1), object(14)\n",
      "memory usage: 1.8+ MB\n"
     ]
    }
   ],
   "source": [
    "# remove nan values from the dataset and check to see how many have been dropped and the datatype of columns\n",
    "\n",
    "clean_rental_pd = rental_pd.dropna(subset=['endPlaceLat','endPlaceLong'])\n",
    "clean_rental_pd.info()"
   ]
  },
  {
   "cell_type": "code",
   "execution_count": 30,
   "id": "3fadb3c8-0075-4afd-9a21-fe389ce7e1fd",
   "metadata": {},
   "outputs": [],
   "source": [
    "# convert to a gdf using geopandas and using the coordinates to create a point geometry\n",
    "gdf_bikes_end = gpd.GeoDataFrame(clean_rental_pd, geometry=gpd.points_from_xy(clean_rental_pd['endPlaceLong'], clean_rental_pd['endPlaceLat']))"
   ]
  },
  {
   "cell_type": "code",
   "execution_count": 31,
   "id": "4fe0885e-920d-409f-a64f-bdb1381bca92",
   "metadata": {},
   "outputs": [],
   "source": [
    "# convert to a gdf using geopandas and using the coordinates to create a point geometry\n",
    "gdf_bikes_end = gpd.GeoDataFrame(clean_rental_pd, geometry=gpd.points_from_xy(clean_rental_pd['endPlaceLong'], clean_rental_pd['endPlaceLat']))"
   ]
  },
  {
   "cell_type": "code",
   "execution_count": 32,
   "id": "c39d17e0-1c77-4e9f-a243-a8ad103941bb",
   "metadata": {},
   "outputs": [
    {
     "data": {
      "text/html": [
       "<div>\n",
       "<style scoped>\n",
       "    .dataframe tbody tr th:only-of-type {\n",
       "        vertical-align: middle;\n",
       "    }\n",
       "\n",
       "    .dataframe tbody tr th {\n",
       "        vertical-align: top;\n",
       "    }\n",
       "\n",
       "    .dataframe thead th {\n",
       "        text-align: right;\n",
       "    }\n",
       "</style>\n",
       "<table border=\"1\" class=\"dataframe\">\n",
       "  <thead>\n",
       "    <tr style=\"text-align: right;\">\n",
       "      <th></th>\n",
       "      <th>endDate</th>\n",
       "      <th>endPlaceId</th>\n",
       "      <th>endPlaceName</th>\n",
       "      <th>durationSeconds</th>\n",
       "      <th>isInvalid</th>\n",
       "      <th>price</th>\n",
       "      <th>isEbike</th>\n",
       "      <th>endPlaceLat</th>\n",
       "      <th>endPlaceLong</th>\n",
       "      <th>geometry</th>\n",
       "    </tr>\n",
       "  </thead>\n",
       "  <tbody>\n",
       "    <tr>\n",
       "      <th>0</th>\n",
       "      <td>2022-05-01T00:02:36Z</td>\n",
       "      <td>264299</td>\n",
       "      <td>ELECTRIC - Broomielaw</td>\n",
       "      <td>56</td>\n",
       "      <td>False</td>\n",
       "      <td>2.0</td>\n",
       "      <td>True</td>\n",
       "      <td>55.856600</td>\n",
       "      <td>-4.263521</td>\n",
       "      <td>POINT (-4.26352 55.85660)</td>\n",
       "    </tr>\n",
       "    <tr>\n",
       "      <th>1</th>\n",
       "      <td>2022-05-01T00:22:34Z</td>\n",
       "      <td>3812776</td>\n",
       "      <td>Alexandra Park (south entrance) Alexandra Para...</td>\n",
       "      <td>1097</td>\n",
       "      <td>False</td>\n",
       "      <td>1.0</td>\n",
       "      <td>False</td>\n",
       "      <td>55.863128</td>\n",
       "      <td>-4.210282</td>\n",
       "      <td>POINT (-4.21028 55.86313)</td>\n",
       "    </tr>\n",
       "    <tr>\n",
       "      <th>2</th>\n",
       "      <td>2022-05-01T00:10:08Z</td>\n",
       "      <td>264302</td>\n",
       "      <td>Botanic Gardens - ELECTRIC</td>\n",
       "      <td>344</td>\n",
       "      <td>False</td>\n",
       "      <td>1.0</td>\n",
       "      <td>False</td>\n",
       "      <td>55.878278</td>\n",
       "      <td>-4.288487</td>\n",
       "      <td>POINT (-4.28849 55.87828)</td>\n",
       "    </tr>\n",
       "    <tr>\n",
       "      <th>3</th>\n",
       "      <td>2022-05-01T02:57:49Z</td>\n",
       "      <td>349455</td>\n",
       "      <td>ELECTRIC - Cessnock Subway Station</td>\n",
       "      <td>10400</td>\n",
       "      <td>False</td>\n",
       "      <td>6.0</td>\n",
       "      <td>False</td>\n",
       "      <td>55.851918</td>\n",
       "      <td>-4.294490</td>\n",
       "      <td>POINT (-4.29449 55.85192)</td>\n",
       "    </tr>\n",
       "    <tr>\n",
       "      <th>4</th>\n",
       "      <td>2022-05-01T01:21:31Z</td>\n",
       "      <td>264295</td>\n",
       "      <td>ELECTRIC - St Enoch Square</td>\n",
       "      <td>4611</td>\n",
       "      <td>False</td>\n",
       "      <td>3.0</td>\n",
       "      <td>False</td>\n",
       "      <td>55.856829</td>\n",
       "      <td>-4.255292</td>\n",
       "      <td>POINT (-4.25529 55.85683)</td>\n",
       "    </tr>\n",
       "  </tbody>\n",
       "</table>\n",
       "</div>"
      ],
      "text/plain": [
       "                endDate endPlaceId  \\\n",
       "0  2022-05-01T00:02:36Z     264299   \n",
       "1  2022-05-01T00:22:34Z    3812776   \n",
       "2  2022-05-01T00:10:08Z     264302   \n",
       "3  2022-05-01T02:57:49Z     349455   \n",
       "4  2022-05-01T01:21:31Z     264295   \n",
       "\n",
       "                                        endPlaceName  durationSeconds  \\\n",
       "0                              ELECTRIC - Broomielaw               56   \n",
       "1  Alexandra Park (south entrance) Alexandra Para...             1097   \n",
       "2                         Botanic Gardens - ELECTRIC              344   \n",
       "3                 ELECTRIC - Cessnock Subway Station            10400   \n",
       "4                         ELECTRIC - St Enoch Square             4611   \n",
       "\n",
       "   isInvalid  price  isEbike  endPlaceLat  endPlaceLong  \\\n",
       "0      False    2.0     True    55.856600     -4.263521   \n",
       "1      False    1.0    False    55.863128     -4.210282   \n",
       "2      False    1.0    False    55.878278     -4.288487   \n",
       "3      False    6.0    False    55.851918     -4.294490   \n",
       "4      False    3.0    False    55.856829     -4.255292   \n",
       "\n",
       "                    geometry  \n",
       "0  POINT (-4.26352 55.85660)  \n",
       "1  POINT (-4.21028 55.86313)  \n",
       "2  POINT (-4.28849 55.87828)  \n",
       "3  POINT (-4.29449 55.85192)  \n",
       "4  POINT (-4.25529 55.85683)  "
      ]
     },
     "execution_count": 32,
     "metadata": {},
     "output_type": "execute_result"
    }
   ],
   "source": [
    "# filter unwanted columns from the gdf\n",
    "keep_cols = [\n",
    "    \"endDate\",\n",
    "    \"endPlaceId\",\n",
    "    \"endPlaceName\",\n",
    "    \"durationSeconds\",\n",
    "    \"isInvalid\",\n",
    "    \"price\",\n",
    "    \"isEbike\",\n",
    "    \"endPlaceLat\",\n",
    "    \"endPlaceLong\",\n",
    "    \"geometry\",\n",
    "]\n",
    "gdf_bikes_end = gdf_bikes_end[keep_cols]\n",
    "gdf_bikes_end.head()"
   ]
  },
  {
   "cell_type": "code",
   "execution_count": 33,
   "id": "f1bfbbe0-483f-40cd-a5f8-5cf963b48cac",
   "metadata": {},
   "outputs": [
    {
     "name": "stdout",
     "output_type": "stream",
     "text": [
      "<class 'geopandas.geodataframe.GeoDataFrame'>\n",
      "Index: 9967 entries, 0 to 9999\n",
      "Data columns (total 10 columns):\n",
      " #   Column           Non-Null Count  Dtype         \n",
      "---  ------           --------------  -----         \n",
      " 0   endDate          9967 non-null   datetime64[ns]\n",
      " 1   endPlaceId       9967 non-null   int64         \n",
      " 2   endPlaceName     9967 non-null   object        \n",
      " 3   durationSeconds  9967 non-null   int64         \n",
      " 4   isInvalid        9967 non-null   bool          \n",
      " 5   price            9967 non-null   float64       \n",
      " 6   isEbike          9967 non-null   bool          \n",
      " 7   endPlaceLat      9967 non-null   float64       \n",
      " 8   endPlaceLong     9967 non-null   float64       \n",
      " 9   geometry         9967 non-null   geometry      \n",
      "dtypes: bool(2), datetime64[ns](1), float64(3), geometry(1), int64(2), object(1)\n",
      "memory usage: 720.3+ KB\n"
     ]
    }
   ],
   "source": [
    "# update to more appropriate data types for each of the columns for clustering\n",
    "\n",
    "gdf_bikes_end.endPlaceId = gdf_bikes_end.endPlaceId.astype(int)\n",
    "gdf_bikes_end.endPlaceName = gdf_bikes_end.endPlaceName.astype(str)\n",
    "gdf_bikes_end['endDate'] = pd.to_datetime(gdf_bikes_end['endDate'], format='%Y-%m-%dT%H:%M:%SZ')\n",
    "\n",
    "gdf_bikes_end.info()"
   ]
  },
  {
   "cell_type": "code",
   "execution_count": 34,
   "id": "2d839bbd-a0d9-4e34-980a-5a7ad661fa70",
   "metadata": {},
   "outputs": [],
   "source": [
    "# clustering step: set for 4 clusters using the gdf_bikes_end gdf\n",
    "# This establishes 4 clusters \n",
    "\n",
    "from sklearn.cluster import KMeans\n",
    "num_clusters = 4\n",
    "\n",
    "kmeans_collection = KMeans(n_clusters=num_clusters, random_state=42)\n",
    "gdf_bikes_end['kmeans_cluster'] = kmeans_collection.fit_predict(gdf_bikes_end[['endPlaceLong', 'endPlaceLat']])"
   ]
  },
  {
   "cell_type": "code",
   "execution_count": 35,
   "id": "85522f65-26a0-4eb9-94a7-e5be17c0010a",
   "metadata": {},
   "outputs": [
    {
     "data": {
      "application/vnd.jupyter.widget-view+json": {
       "model_id": "2e07cbf32e9e43dca02b3a068771d73b",
       "version_major": 2,
       "version_minor": 0
      },
      "text/plain": [
       "Map(center=[55.860166, -4.257505], controls=(AttributionControl(options=['position', 'prefix'], position='bott…"
      ]
     },
     "execution_count": 35,
     "metadata": {},
     "output_type": "execute_result"
    }
   ],
   "source": [
    "# plotting the clusters using leafmap\n",
    "\n",
    "import leafmap\n",
    "\n",
    "end_map = leafmap.Map(center=(55.860166, -4.257505),\n",
    "                zoom=12,\n",
    "                draw_control=False,\n",
    "                measure_control=False,\n",
    "                fullscreen_control=False,\n",
    "                attribution_control=True,\n",
    "                   \n",
    "               )\n",
    "\n",
    "end_map.add_basemap(\"CartoDB.Positron\")\n",
    "end_map.add_data(\n",
    "    gdf_bikes_end,\n",
    "    column='kmeans_cluster',\n",
    "    legend_title='Clusters',\n",
    "    cmap='Set2',\n",
    "    k=4,\n",
    ")\n",
    "\n",
    "#Ploting the map\n",
    "end_map"
   ]
  },
  {
   "cell_type": "code",
   "execution_count": null,
   "id": "706395b5-5be6-4e93-ab11-1fa33810926c",
   "metadata": {},
   "outputs": [],
   "source": []
  }
 ],
 "metadata": {
  "kernelspec": {
   "display_name": "Python 3 (ipykernel)",
   "language": "python",
   "name": "python3"
  },
  "language_info": {
   "codemirror_mode": {
    "name": "ipython",
    "version": 3
   },
   "file_extension": ".py",
   "mimetype": "text/x-python",
   "name": "python",
   "nbconvert_exporter": "python",
   "pygments_lexer": "ipython3",
   "version": "3.11.6"
  }
 },
 "nbformat": 4,
 "nbformat_minor": 5
}
